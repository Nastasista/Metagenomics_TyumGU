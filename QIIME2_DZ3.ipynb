{
 "cells": [
  {
   "cell_type": "markdown",
   "metadata": {},
   "source": [
    "## Полузёрова Анастасия \n",
    "## Магистратура ТюмГУ\n",
    "## Практическое задание 3\n",
    "# <div style=\"text-align:center;\"><font color=\"blue\">QIIME 2 </font></div>\n",
    "\n",
    "\n"
   ]
  },
  {
   "cell_type": "code",
   "execution_count": 1,
   "metadata": {
    "scrolled": true
   },
   "outputs": [
    {
     "name": "stdout",
     "output_type": "stream",
     "text": [
      "conda 23.5.0\r\n"
     ]
    }
   ],
   "source": [
    "!conda --version"
   ]
  },
  {
   "cell_type": "code",
   "execution_count": 2,
   "metadata": {
    "scrolled": true
   },
   "outputs": [
    {
     "name": "stdout",
     "output_type": "stream",
     "text": [
      "Abacumov-B-13_S13_L001_R1_001.fastq.gz\tAbacumov-B-39_S39_L001_R1_001.fastq.gz\r\n",
      "Abacumov-B-13_S13_L001_R2_001.fastq.gz\tAbacumov-B-39_S39_L001_R2_001.fastq.gz\r\n",
      "Abacumov-B-14_S14_L001_R1_001.fastq.gz\tAbacumov-B-3_S3_L001_R1_001.fastq.gz\r\n",
      "Abacumov-B-14_S14_L001_R2_001.fastq.gz\tAbacumov-B-3_S3_L001_R2_001.fastq.gz\r\n",
      "Abacumov-B-15_S15_L001_R1_001.fastq.gz\tAbacumov-B-40_S40_L001_R1_001.fastq.gz\r\n",
      "Abacumov-B-15_S15_L001_R2_001.fastq.gz\tAbacumov-B-40_S40_L001_R2_001.fastq.gz\r\n",
      "Abacumov-B-16_S16_L001_R1_001.fastq.gz\tAbacumov-B-49_S49_L001_R1_001.fastq.gz\r\n",
      "Abacumov-B-16_S16_L001_R2_001.fastq.gz\tAbacumov-B-49_S49_L001_R2_001.fastq.gz\r\n",
      "Abacumov-B-1_S1_L001_R1_001.fastq.gz\tAbacumov-B-4_S4_L001_R1_001.fastq.gz\r\n",
      "Abacumov-B-1_S1_L001_R2_001.fastq.gz\tAbacumov-B-4_S4_L001_R2_001.fastq.gz\r\n",
      "Abacumov-B-25_S25_L001_R1_001.fastq.gz\tAbacumov-B-50_S50_L001_R1_001.fastq.gz\r\n",
      "Abacumov-B-25_S25_L001_R2_001.fastq.gz\tAbacumov-B-50_S50_L001_R2_001.fastq.gz\r\n",
      "Abacumov-B-26_S26_L001_R1_001.fastq.gz\tAbacumov-B-51_S51_L001_R1_001.fastq.gz\r\n",
      "Abacumov-B-26_S26_L001_R2_001.fastq.gz\tAbacumov-B-51_S51_L001_R2_001.fastq.gz\r\n",
      "Abacumov-B-27_S27_L001_R1_001.fastq.gz\tAbacumov-B-52_S52_L001_R1_001.fastq.gz\r\n",
      "Abacumov-B-27_S27_L001_R2_001.fastq.gz\tAbacumov-B-52_S52_L001_R2_001.fastq.gz\r\n",
      "Abacumov-B-28_S28_L001_R1_001.fastq.gz\tAbacumov-B-61_S61_L001_R1_001.fastq.gz\r\n",
      "Abacumov-B-28_S28_L001_R2_001.fastq.gz\tAbacumov-B-61_S61_L001_R2_001.fastq.gz\r\n",
      "Abacumov-B-2_S2_L001_R1_001.fastq.gz\tAbacumov-B-62_S62_L001_R1_001.fastq.gz\r\n",
      "Abacumov-B-2_S2_L001_R2_001.fastq.gz\tAbacumov-B-62_S62_L001_R2_001.fastq.gz\r\n",
      "Abacumov-B-37_S37_L001_R1_001.fastq.gz\tAbacumov-B-63_S63_L001_R1_001.fastq.gz\r\n",
      "Abacumov-B-37_S37_L001_R2_001.fastq.gz\tAbacumov-B-63_S63_L001_R2_001.fastq.gz\r\n",
      "Abacumov-B-38_S38_L001_R1_001.fastq.gz\tAbacumov-B-64_S64_L001_R1_001.fastq.gz\r\n",
      "Abacumov-B-38_S38_L001_R2_001.fastq.gz\tAbacumov-B-64_S64_L001_R2_001.fastq.gz\r\n"
     ]
    }
   ],
   "source": [
    "!ls data_met/sequences"
   ]
  },
  {
   "cell_type": "code",
   "execution_count": 3,
   "metadata": {
    "scrolled": true
   },
   "outputs": [
    {
     "name": "stdout",
     "output_type": "stream",
     "text": [
      "\u001b[32mImported data_met/sequences as CasavaOneEightSingleLanePerSampleDirFmt to demux-paired-end.qza\u001b[0m\n",
      "\u001b[0m"
     ]
    }
   ],
   "source": [
    "!qiime tools import \\\n",
    "  --type 'SampleData[PairedEndSequencesWithQuality]' \\\n",
    "  --input-path data_met/sequences \\\n",
    "  --input-format CasavaOneEightSingleLanePerSampleDirFmt \\\n",
    "  --output-path demux-paired-end.qza"
   ]
  },
  {
   "cell_type": "markdown",
   "metadata": {},
   "source": [
    "## Deblur"
   ]
  },
  {
   "cell_type": "code",
   "execution_count": 4,
   "metadata": {},
   "outputs": [
    {
     "name": "stdout",
     "output_type": "stream",
     "text": [
      "\u001b[32mSaved SampleData[SequencesWithQuality] to: demux-filtered.qza\u001b[0m\n",
      "\u001b[32mSaved QualityFilterStats to: demux-filter-stats.qza\u001b[0m\n",
      "\u001b[0m"
     ]
    }
   ],
   "source": [
    "#фильтрация последовательностей на основе оценки качества \n",
    "!qiime quality-filter q-score \\\n",
    " --i-demux demux-paired-end.qza \\\n",
    " --o-filtered-sequences demux-filtered.qza \\\n",
    " --o-filter-stats demux-filter-stats.qza"
   ]
  },
  {
   "cell_type": "code",
   "execution_count": 5,
   "metadata": {},
   "outputs": [
    {
     "name": "stdout",
     "output_type": "stream",
     "text": [
      "\u001b[32mSaved FeatureTable[Frequency] to: table-deblur.qza\u001b[0m\n",
      "\u001b[32mSaved FeatureData[Sequence] to: rep-seqs-deblur.qza\u001b[0m\n",
      "\u001b[32mSaved DeblurStats to: deblur-stats.qza\u001b[0m\n",
      "\u001b[0m"
     ]
    }
   ],
   "source": [
    "#с помощью deblur объединяются похожие последовательности и удаляются ошибки секвенирования\n",
    "!qiime deblur denoise-16S \\\n",
    "  --i-demultiplexed-seqs demux-filtered.qza \\\n",
    "  --p-trim-length 120 \\\n",
    "  --o-representative-sequences rep-seqs-deblur.qza \\\n",
    "  --o-table table-deblur.qza \\\n",
    "  --p-sample-stats \\\n",
    "  --o-stats deblur-stats.qza"
   ]
  },
  {
   "cell_type": "code",
   "execution_count": 6,
   "metadata": {},
   "outputs": [
    {
     "name": "stdout",
     "output_type": "stream",
     "text": [
      "\u001b[32mSaved Visualization to: demux-filter-stats.qzv\u001b[0m\n",
      "\u001b[0m\u001b[32mSaved Visualization to: deblur-stats.qzv\u001b[0m\n",
      "\u001b[0m"
     ]
    }
   ],
   "source": [
    "# табулирование статистики фильтрации для визуализации. \n",
    "# Результаты сохраняются в файле demux-filter-stats.qzv.\n",
    "!qiime metadata tabulate \\\n",
    "  --m-input-file demux-filter-stats.qza \\\n",
    "  --o-visualization demux-filter-stats.qzv\n",
    "!qiime deblur visualize-stats \\\n",
    "  --i-deblur-stats deblur-stats.qza \\\n",
    "  --o-visualization deblur-stats.qzv"
   ]
  },
  {
   "cell_type": "markdown",
   "metadata": {},
   "source": [
    "Оценить эффективность фильтрации и качество данных можно с помощь. визуализации полученной таблицы:\n",
    "\n",
    "\n",
    "![deblur-stats.qzv](Screenshot_20230618_145223.png)\n"
   ]
  },
  {
   "cell_type": "markdown",
   "metadata": {},
   "source": [
    "## Add metadata"
   ]
  },
  {
   "cell_type": "code",
   "execution_count": 7,
   "metadata": {},
   "outputs": [],
   "source": [
    "!sed 's/,/\\t/g' map.csv > map.tsv #преобразование файла метаданных map.csv в формат TSV "
   ]
  },
  {
   "cell_type": "code",
   "execution_count": 8,
   "metadata": {},
   "outputs": [],
   "source": [
    "!sed -i '1s/Filename/#SampleID/' map.tsv #замена\"Filename\" на \"SampleID\""
   ]
  },
  {
   "cell_type": "code",
   "execution_count": 11,
   "metadata": {
    "scrolled": true
   },
   "outputs": [
    {
     "name": "stdout",
     "output_type": "stream",
     "text": [
      "\u001b[32mSaved Visualization to: table.qzv\u001b[0m\n",
      "\u001b[0m\u001b[32mSaved Visualization to: rep-seqs.qzv\u001b[0m\n",
      "\u001b[0m"
     ]
    }
   ],
   "source": [
    "# Создание сводной информации о таблице признаков\n",
    "!qiime feature-table summarize \\\n",
    "  --i-table table-deblur.qza \\\n",
    "  --o-visualization table.qzv \\\n",
    "  --m-sample-metadata-file map.tsv\n",
    "\n",
    "# Создание таблицы с информацией о последовательностях (включая идентификаторы и количество вхождений)\n",
    "!qiime feature-table tabulate-seqs \\\n",
    "  --i-data rep-seqs-deblur.qza \\\n",
    "  --o-visualization rep-seqs.qzv\n"
   ]
  },
  {
   "cell_type": "markdown",
   "metadata": {},
   "source": [
    "![sample-frequencies](sample-frequenc.png)\n",
    "![feature-frequencies](feature-frequenc.png)\n",
    "![rep-seqs](rep-seq.png)\n",
    "\n"
   ]
  },
  {
   "cell_type": "markdown",
   "metadata": {},
   "source": [
    "## Add tree"
   ]
  },
  {
   "cell_type": "code",
   "execution_count": 12,
   "metadata": {
    "scrolled": true
   },
   "outputs": [
    {
     "name": "stdout",
     "output_type": "stream",
     "text": [
      "\u001b[32mSaved FeatureData[AlignedSequence] to: aligned-rep-seqs.qza\u001b[0m\n",
      "\u001b[32mSaved FeatureData[AlignedSequence] to: masked-aligned-rep-seqs.qza\u001b[0m\n",
      "\u001b[32mSaved Phylogeny[Unrooted] to: unrooted-tree.qza\u001b[0m\n",
      "\u001b[32mSaved Phylogeny[Rooted] to: rooted-tree.qza\u001b[0m\n",
      "\u001b[0m"
     ]
    }
   ],
   "source": [
    "# QIIME выравнивает последовательности и строит филогенетическое дерево: \n",
    "!qiime phylogeny align-to-tree-mafft-fasttree \\\n",
    "  --i-sequences rep-seqs-deblur.qza \\\n",
    "  --o-alignment aligned-rep-seqs.qza \\\n",
    "  --o-masked-alignment masked-aligned-rep-seqs.qza \\\n",
    "  --o-tree unrooted-tree.qza \\\n",
    "  --o-rooted-tree rooted-tree.qza"
   ]
  },
  {
   "cell_type": "markdown",
   "metadata": {},
   "source": [
    "# Diversity Analysis"
   ]
  },
  {
   "cell_type": "markdown",
   "metadata": {},
   "source": [
    "Анализ разнообразия микробиома на уровне альфа- и бета-разнообразия \n"
   ]
  },
  {
   "cell_type": "code",
   "execution_count": 14,
   "metadata": {
    "scrolled": true
   },
   "outputs": [
    {
     "name": "stdout",
     "output_type": "stream",
     "text": [
      "\u001b[32mSaved FeatureTable[Frequency] to: core-metrics-results/rarefied_table.qza\u001b[0m\n",
      "\u001b[32mSaved SampleData[AlphaDiversity] to: core-metrics-results/faith_pd_vector.qza\u001b[0m\n",
      "\u001b[32mSaved SampleData[AlphaDiversity] to: core-metrics-results/observed_features_vector.qza\u001b[0m\n",
      "\u001b[32mSaved SampleData[AlphaDiversity] to: core-metrics-results/shannon_vector.qza\u001b[0m\n",
      "\u001b[32mSaved SampleData[AlphaDiversity] to: core-metrics-results/evenness_vector.qza\u001b[0m\n",
      "\u001b[32mSaved DistanceMatrix to: core-metrics-results/unweighted_unifrac_distance_matrix.qza\u001b[0m\n",
      "\u001b[32mSaved DistanceMatrix to: core-metrics-results/weighted_unifrac_distance_matrix.qza\u001b[0m\n",
      "\u001b[32mSaved DistanceMatrix to: core-metrics-results/jaccard_distance_matrix.qza\u001b[0m\n",
      "\u001b[32mSaved DistanceMatrix to: core-metrics-results/bray_curtis_distance_matrix.qza\u001b[0m\n",
      "\u001b[32mSaved PCoAResults to: core-metrics-results/unweighted_unifrac_pcoa_results.qza\u001b[0m\n",
      "\u001b[32mSaved PCoAResults to: core-metrics-results/weighted_unifrac_pcoa_results.qza\u001b[0m\n",
      "\u001b[32mSaved PCoAResults to: core-metrics-results/jaccard_pcoa_results.qza\u001b[0m\n",
      "\u001b[32mSaved PCoAResults to: core-metrics-results/bray_curtis_pcoa_results.qza\u001b[0m\n",
      "\u001b[32mSaved Visualization to: core-metrics-results/unweighted_unifrac_emperor.qzv\u001b[0m\n",
      "\u001b[32mSaved Visualization to: core-metrics-results/weighted_unifrac_emperor.qzv\u001b[0m\n",
      "\u001b[32mSaved Visualization to: core-metrics-results/jaccard_emperor.qzv\u001b[0m\n",
      "\u001b[32mSaved Visualization to: core-metrics-results/bray_curtis_emperor.qzv\u001b[0m\n",
      "\u001b[0m"
     ]
    }
   ],
   "source": [
    "#QIIME рассчитывает различные метрики альфа- и бета-разнообразия:\n",
    "!qiime diversity core-metrics-phylogenetic \\\n",
    "  --i-phylogeny rooted-tree.qza \\\n",
    "  --i-table table-deblur.qza \\\n",
    "  --p-sampling-depth 8000 \\\n",
    "  --m-metadata-file map.tsv \\\n",
    "  --output-dir core-metrics-results"
   ]
  },
  {
   "cell_type": "markdown",
   "metadata": {},
   "source": [
    "Visualise alpha-diversity"
   ]
  },
  {
   "cell_type": "code",
   "execution_count": 15,
   "metadata": {},
   "outputs": [
    {
     "name": "stdout",
     "output_type": "stream",
     "text": [
      "\u001b[32mSaved Visualization to: alpha-rarefaction.qzv\u001b[0m\n",
      "\u001b[0m"
     ]
    }
   ],
   "source": [
    "!qiime diversity alpha-rarefaction \\\n",
    "  --i-table table-deblur.qza \\\n",
    "  --i-phylogeny rooted-tree.qza \\\n",
    "  --p-max-depth 20000 \\\n",
    "  --m-metadata-file map.tsv \\\n",
    "  --o-visualization alpha-rarefaction.qzv"
   ]
  },
  {
   "cell_type": "markdown",
   "metadata": {},
   "source": [
    "![alpha-rarefaction](alpha-rarefaction.png)\n",
    "![bray-curtis](bray.png)"
   ]
  },
  {
   "cell_type": "code",
   "execution_count": 16,
   "metadata": {},
   "outputs": [
    {
     "name": "stdout",
     "output_type": "stream",
     "text": [
      "\u001b[32mSaved Visualization to: core-metrics-results/observed_features-significance.qzv\u001b[0m\n",
      "\u001b[0m\u001b[32mSaved Visualization to: core-metrics-results/evenness-group-significance.qzv\u001b[0m\n",
      "\u001b[0m"
     ]
    }
   ],
   "source": [
    "#статистическая оценка значимости альфа-разнообразия между группами (на основе векторов альфа-разнообразия):\n",
    "!qiime diversity alpha-group-significance \\\n",
    "  --i-alpha-diversity core-metrics-results/observed_features_vector.qza \\\n",
    "  --m-metadata-file map.tsv \\\n",
    "  --o-visualization core-metrics-results/observed_features-significance.qzv\n",
    "\n",
    "!qiime diversity alpha-group-significance \\\n",
    "  --i-alpha-diversity core-metrics-results/evenness_vector.qza \\\n",
    "  --m-metadata-file map.tsv \\\n",
    "  --o-visualization core-metrics-results/evenness-group-significance.qzv\n"
   ]
  },
  {
   "cell_type": "markdown",
   "metadata": {},
   "source": [
    "![alpha-diversity-boxplots](alpha-diversity-boxplots.png)\n",
    "![kruskal-wallis](kruskal-wallis.png)"
   ]
  },
  {
   "cell_type": "markdown",
   "metadata": {},
   "source": [
    "Тест Kruskal-Wallis:\n",
    "Нулевая гипотеза в этом тесте заключается в том, что распределения значений во всех группах равны.\n",
    "\n",
    "На основании полученных результатов можно сделать вывод, что существует статистически значимая разница между группами. Значение p-value меньше уровня значимости 0.05, что позволяет отвергнуть нулевую гипотезу. Это означает, что распределения значений в разных группах статистически отличаются, и существует вероятность, что эти различия не случайны.\n",
    "\n",
    "Между группами \"Coal Mine Terricon\" и \"Embryo Sand\" наблюдается статистически значимая разница (p-value = 0.020921), с учетом поправки на множественные сравнения (q-value = 0.024140).\n",
    "Между группами \"Litostrat\" и \"Embryo Sand\" также наблюдается статистически значимая разница (p-value = 0.083265), но после коррекции на множественные сравнения эта разница становится менее значимой (q-value = 0.089212).\n",
    "Между другими парами групп также наблюдаются значения статистики H, p-value и q-value, которые указывают на различия между группами, но точность этих различий может быть несколько ниже из-за коррекции на множественные сравнения."
   ]
  },
  {
   "cell_type": "code",
   "execution_count": 17,
   "metadata": {
    "scrolled": true
   },
   "outputs": [
    {
     "name": "stdout",
     "output_type": "stream",
     "text": [
      "\u001b[32mSaved Visualization to: core-metrics-results/bray_curtis-body-site-significance.qzv\u001b[0m\r\n",
      "\u001b[0m"
     ]
    }
   ],
   "source": [
    "# Beta-diversity significance\n",
    "!qiime diversity beta-group-significance \\\n",
    "  --i-distance-matrix core-metrics-results/bray_curtis_distance_matrix.qza \\\n",
    "  --m-metadata-file map.tsv \\\n",
    "  --m-metadata-column Source\\\n",
    "  --o-visualization core-metrics-results/bray_curtis-body-site-significance.qzv \\\n",
    "  --p-pairwise"
   ]
  },
  {
   "cell_type": "markdown",
   "metadata": {},
   "source": [
    "![bray_curtis_body_site_significance1](bray_curtis_body_site_significance1.png)\n",
    "![bray_curtis_body_site_significance2](bray_curtis_body_site_significance2.png)\n",
    "![permanova_results](permanova_results.png)"
   ]
  },
  {
   "cell_type": "markdown",
   "metadata": {},
   "source": [
    "Анализ PERMANOVA подтверждает, что существует статистически значимая разница между группами на основе анализа многомерных данных."
   ]
  }
 ],
 "metadata": {
  "kernelspec": {
   "display_name": "Python 3 (ipykernel)",
   "language": "python",
   "name": "python3"
  },
  "language_info": {
   "codemirror_mode": {
    "name": "ipython",
    "version": 3
   },
   "file_extension": ".py",
   "mimetype": "text/x-python",
   "name": "python",
   "nbconvert_exporter": "python",
   "pygments_lexer": "ipython3",
   "version": "3.8.16"
  }
 },
 "nbformat": 4,
 "nbformat_minor": 2
}
